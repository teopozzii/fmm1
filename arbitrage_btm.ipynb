{
 "cells": [
  {
   "cell_type": "markdown",
   "metadata": {},
   "source": [
    "# Arbitrage Strategy Based on Book-to-Market\n",
    "\n",
    "This notebook implements an arbitrage model based on the spread between accounting value (book value) and market value of major listed companies.\n",
    "Enhancements include:\n",
    "- Sector neutrality\n",
    "- Transaction cost adjustments\n",
    "- Combined value signals (Book-to-Market and Free Cash Flow Yield)\n",
    "- Quality filtering (positive earnings, low accruals)"
   ]
  },
  {
   "cell_type": "markdown",
   "metadata": {},
   "source": [
    "## Theoretical Framework\n",
    "\n",
    "Let:\n",
    "- $P_{i,t}$ = Price of stock *i* at time *t*\n",
    "- $BVPS_{i,t}$ = Book Value per Share\n",
    "- $MV_{i,t} = P_{i,t} \\times Shares$\n",
    "- $BV_{i,t} = BVPS_{i,t} \\times Shares$\n",
    "\n",
    "### Value Signal:\n",
    "We consider book value to market capitalization ratio: how much accounting value is paid for by the market\n",
    "$$\n",
    "BTM_{i,t} = \\frac{BV_{i,t}}{MV_{i,t}}\n",
    "$$\n",
    "\n",
    "### FCF Yield:\n",
    "$$\n",
    "FCFY_{i,t} = \\frac{FCF_{i,t}}{MV_{i,t}}\n",
    "$$\n",
    "\n",
    "### Composite Signal (Z-Score):\n",
    "$$\n",
    "Z_{i,t} = \\frac{(Signal_{i,t} - \\mu_t)}{\\sigma_t}\n",
    "$$\n",
    "Where $Signal_{i,t}$ combines BTM and FCFY, and $\\mu_t$, $\\sigma_t$ are cross-sectional mean and std.\n",
    "\n",
    "We go **long** on stocks with low Z and **short** on high Z, adjusted for sector neutrality."
   ]
  },
  {
   "cell_type": "code",
   "execution_count": null,
   "metadata": {},
   "outputs": [],
   "source": [
    "# Ideally, only run a few times since key usage is limited\n",
    "\n",
    "import numpy as np\n",
    "import pandas as pd\n",
    "import yfinance as yf\n",
    "import matplotlib.pyplot as plt\n",
    "import requests\n",
    "\n",
    "from utils import get_current_fundamentals\n",
    "\n",
    "# CONFIG\n",
    "TICKERS = ['AAPL', 'MSFT', 'GOOGL', 'META', 'AMZN']\n",
    "TRANSACTION_COST = 0.001  # 0.1% per trade\n",
    "START_DATE = '2018-01-01'\n",
    "END_DATE = '2023-12-31'\n",
    "\n",
    "fundamentals = {}\n",
    "for ticker in TICKERS:\n",
    "    fundamentals[ticker] = get_current_fundamentals(ticker)\n",
    "\n",
    "fund_df = pd.DataFrame(fundamentals).T\n",
    "pd.DataFrame({'Attributes': fund_df.columns.to_list()})"
   ]
  },
  {
   "cell_type": "code",
   "execution_count": null,
   "id": "e42e9a08",
   "metadata": {},
   "outputs": [
    {
     "data": {
      "text/plain": [
       "BookValue                       4.471\n",
       "SharesOutstanding         14935800000\n",
       "EPS                              6.41\n",
       "DilutedEPSTTM                    6.41\n",
       "MarketCapitalization    3194468958000\n",
       "Sector                     TECHNOLOGY\n",
       "ProfitMargin                    0.243\n",
       "PriceToBookRatio                47.82\n",
       "Book to Market1              0.020912\n",
       "Book to Market2              0.020904\n",
       "Name: AAPL, dtype: object"
      ]
     },
     "execution_count": 15,
     "metadata": {},
     "output_type": "execute_result"
    }
   ],
   "source": [
    "calc = fund_df.copy()\n",
    "# Convert to numeric columns that start with a digit\n",
    "calc = calc.apply(lambda x: pd.to_numeric(x, errors='coerce') if x.str.contains(r'^\\d', na=False).any() else x)\n",
    "\n",
    "# Filter out companies with negative EPS or profit margin\n",
    "calc = calc[(calc['DilutedEPSTTM'] > 0) & (calc['ProfitMargin'] > 0)]\n",
    "\n",
    "calc = calc[['BookValue', 'SharesOutstanding', 'EPS', 'DilutedEPSTTM', 'MarketCapitalization',\n",
    "             'Sector', 'ProfitMargin','PriceToBookRatio']]\n",
    "\n",
    "calc['Book to Market1'] = 1 / calc['PriceToBookRatio']  # Book to Market ratio 1\n",
    "calc['Book to Market2'] = (calc['BookValue'] * calc['SharesOutstanding']) / calc['MarketCapitalization']\n",
    "#calc.insert(0, 'Book to Market', calc.pop('Book to Market'))\n",
    "\n",
    "# Oddly enough, the 'Book to Market1' and 'Book to Market2' columns are NOT identical.\n",
    "# What differences in source data are driving this? To be investigated.\n",
    "calc.iloc[0]"
   ]
  }
 ],
 "metadata": {
  "kernelspec": {
   "display_name": "venv",
   "language": "python",
   "name": "python3"
  },
  "language_info": {
   "codemirror_mode": {
    "name": "ipython",
    "version": 3
   },
   "file_extension": ".py",
   "mimetype": "text/x-python",
   "name": "python",
   "nbconvert_exporter": "python",
   "pygments_lexer": "ipython3",
   "version": "3.13.5"
  }
 },
 "nbformat": 4,
 "nbformat_minor": 5
}
