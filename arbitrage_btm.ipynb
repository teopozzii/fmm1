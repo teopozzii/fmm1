{
 "cells": [
  {
   "cell_type": "markdown",
   "metadata": {},
   "source": [
    "# Arbitrage Strategy Based on Book-to-Market\n",
    "\n",
    "This notebook implements an arbitrage model based on the spread between accounting value (book value) and market value of major listed companies.\n",
    "Enhancements include:\n",
    "- Sector neutrality\n",
    "- Transaction cost adjustments\n",
    "- Combined value signals (Book-to-Market and Free Cash Flow Yield)\n",
    "- Quality filtering (positive earnings, low accruals)"
   ]
  },
  {
   "cell_type": "markdown",
   "metadata": {},
   "source": [
    "## Theoretical Framework\n",
    "\n",
    "Let:\n",
    "- $P_{i,t}$ = Price of stock *i* at time *t*\n",
    "- $BVPS_{i,t}$ = Book Value per Share\n",
    "- $MV_{i,t} = P_{i,t} \\times Shares$\n",
    "- $BV_{i,t} = BVPS_{i,t} \\times Shares$\n",
    "\n",
    "### Value Signal:\n",
    "We consider book value to market capitalization ratio: how much accounting value is paid for by the market\n",
    "$$\n",
    "BTM_{i,t} = \\frac{BV_{i,t}}{MV_{i,t}}\n",
    "$$\n",
    "\n",
    "### FCF Yield:\n",
    "$$\n",
    "FCFY_{i,t} = \\frac{FCF_{i,t}}{MV_{i,t}}\n",
    "$$\n",
    "\n",
    "### Composite Signal (Z-Score):\n",
    "$$\n",
    "Z_{i,t} = \\frac{(Signal_{i,t} - \\mu_t)}{\\sigma_t}\n",
    "$$\n",
    "Where $Signal_{i,t}$ combines BTM and FCFY, and $\\mu_t$, $\\sigma_t$ are cross-sectional mean and std.\n",
    "\n",
    "We go **long** on stocks with low Z and **short** on high Z, adjusted for sector neutrality.\n",
    "\n",
    "Should switch to dynamic book value calculation"
   ]
  },
  {
   "cell_type": "code",
   "execution_count": null,
   "metadata": {},
   "outputs": [],
   "source": [
    "# Ideally, only run a few times since key usage is limited\n",
    "\n",
    "import numpy as np\n",
    "import pandas as pd\n",
    "import yfinance as yf\n",
    "import matplotlib.pyplot as plt\n",
    "\n",
    "from utils import get_fundamentals"
   ]
  },
  {
   "cell_type": "code",
   "execution_count": null,
   "id": "73418d15",
   "metadata": {},
   "outputs": [],
   "source": [
    "# CONFIG FOR AV\n",
    "TICKERS = ['AAPL', 'MSFT', 'GOOGL', 'META', 'AMZN']\n",
    "TRANSACTION_COST = 0.001  # 0.1% per trade\n",
    "START_DATE = '2018-01-01'\n",
    "END_DATE = '2023-12-31'\n",
    "\n",
    "prices = yf.download(TICKERS, start=START_DATE, end=END_DATE)\n",
    "\n",
    "fundamentals = {}\n",
    "for ticker in TICKERS:\n",
    "    fundamentals[ticker] = get_fundamentals(ticker, function='o') # get current overview\n",
    "\n",
    "df = pd.DataFrame(fundamentals).T\n",
    "pd.DataFrame({'Attributes': df.columns.to_list()})"
   ]
  },
  {
   "cell_type": "code",
   "execution_count": null,
   "id": "e42e9a08",
   "metadata": {},
   "outputs": [
    {
     "data": {
      "text/plain": [
       "BookValue                       4.471\n",
       "SharesOutstanding         14935800000\n",
       "EPS                              6.41\n",
       "DilutedEPSTTM                    6.41\n",
       "MarketCapitalization    3194468958000\n",
       "Sector                     TECHNOLOGY\n",
       "ProfitMargin                    0.243\n",
       "PriceToBookRatio                47.82\n",
       "Book to Market1              0.020912\n",
       "Book to Market2              0.020904\n",
       "Name: AAPL, dtype: object"
      ]
     },
     "execution_count": 15,
     "metadata": {},
     "output_type": "execute_result"
    }
   ],
   "source": [
    "# Restart\n",
    "fund_df = pd.DataFrame(fundamentals).T\n",
    "# Convert to numeric columns that start with a digit\n",
    "fund_df = fund_df.apply(lambda x: pd.to_numeric(x, errors='coerce') if x.str.contains(r'^\\d', na=False).any() else x)\n",
    "\n",
    "# Filter out companies with negative EPS or profit margin\n",
    "fund_df = fund_df[(fund_df['DilutedEPSTTM'] > 0) & (fund_df['ProfitMargin'] > 0)]\n",
    "\n",
    "fund_df = fund_df[['BookValue', 'SharesOutstanding', 'EPS', 'DilutedEPSTTM', 'MarketCapitalization',\n",
    "             'Sector', 'ProfitMargin','PriceToBookRatio']]\n",
    "\n",
    "fund_df['Book to Market1'] = 1 / fund_df['PriceToBookRatio']  # Book to Market ratio 1\n",
    "fund_df['Book to Market2'] = (fund_df['BookValue'] * fund_df['SharesOutstanding']) / fund_df['MarketCapitalization']\n",
    "#fund_df.insert(0, 'Book to Market', fund_df.pop('Book to Market'))\n",
    "\n",
    "# Oddly enough, the 'Book to Market1' and 'Book to Market2' columns are NOT identical.\n",
    "# What differences in source data are driving this? To be investigated.\n",
    "fund_df.iloc[0]"
   ]
  },
  {
   "cell_type": "code",
   "execution_count": null,
   "id": "7ba4be96",
   "metadata": {},
   "outputs": [],
   "source": [
    "close_prices = prices['Close']\n",
    "\n",
    "book_values, fcf_yields, accruals, market_values, sectors, earnings = {}, {}, {}, {}, {}, {}\n",
    "\n",
    "TICKERS=['AAPL']\n",
    "\n",
    "for ticker in TICKERS:\n",
    "    if ticker not in fund_df.index:\n",
    "        continue  # Skip tickers not in the fund_df\n",
    "    _ticker = yf.Ticker(ticker)\n",
    "    info = _ticker.info\n",
    "    cf = _ticker.cashflow\n",
    "    bs = _ticker.balance_sheet\n",
    "\n",
    "    \n",
    "    shares_outstanding = info.get(\"sharesOutstanding\")\n",
    "    book_value = info.get(\"bookValue\") * shares_outstanding\n",
    "    pe_ratio = info.get(\"trailingPE\")\n",
    "    sector = info.get(\"sector\")\n",
    "    \n",
    "    fcf = cf.loc['Free Cash Flow']\n",
    "    earnings[ticker] = cf.loc['Net Income From Continuing Operations']\n",
    "    op_cash = cf.loc['Operating Cash Flow']\n",
    "\n",
    "    assets = bs.loc['Total Assets']\n",
    "    \n",
    "    market_cap = close_prices[ticker].values * shares_outstanding\n",
    "    market_values[ticker] = market_cap\n",
    "    book_values[ticker] = book_value\n",
    "    fcf_yields[ticker] = fcf / market_cap.mean() if market_cap.mean() > 0 else np.nan\n",
    "    accruals[ticker] = (earnings[ticker] - op_cash) / assets\n",
    "    sectors[ticker] = sector\n",
    "\n",
    "market_values = pd.DataFrame(market_values)\n",
    "book_values = pd.DataFrame(pd.Series(book_values))\n",
    "btm = book_values.T.iloc[0] / market_values # Because book_values is currently STATIC\n",
    "btm = btm.replace([np.inf, -np.inf], np.nan).dropna()\n",
    "z_btm = (btm - btm.mean(axis=1).values[:, None]) / btm.std(axis=1).values[:, None]\n",
    "z_btm = z_btm.fillna(0) # No std-dev, so fill with 0\n",
    "\n",
    "sector_map = pd.Series(sectors)\n",
    "z_sector_adj = z_btm.copy()\n",
    "for date in z_btm.index:\n",
    "    for sector in sector_map.unique():\n",
    "        tickers_in_sector = sector_map[sector_map == sector].index\n",
    "        if len(tickers_in_sector) >= 2:\n",
    "            sector_mean = z_btm.loc[date, tickers_in_sector].mean()\n",
    "            z_sector_adj.loc[date, tickers_in_sector] -= sector_mean\n",
    "\n",
    "# Apply quality filters\n",
    "quality = pd.Series(accruals).apply(lambda x: abs(x) < 0.25) & (earnings[ticker] > 0)\n",
    "filtered_tickers = quality[quality].index\n",
    "signal = z_sector_adj[filtered_tickers].shift(1)\n",
    "signal.index = close_prices[filtered_tickers].index\n",
    "returns = close_prices[filtered_tickers].pct_change().loc[signal.index]\n",
    "\n",
    "daily_return = (signal * returns).mean(axis=1)\n",
    "gross_return = (1 + daily_return).cumprod()\n",
    "net_return = daily_return - TRANSACTION_COST * 0.10\n",
    "net_cum_return = (1 + net_return).cumprod()"
   ]
  },
  {
   "cell_type": "code",
   "execution_count": null,
   "id": "77d30e1d",
   "metadata": {},
   "outputs": [],
   "source": [
    "plt.figure(figsize=(12, 6))\n",
    "plt.plot(gross_return, label='Gross Return')\n",
    "plt.plot(net_cum_return, label='Net Return (with TC)', linestyle='--')\n",
    "plt.title(\"Arbitrage Strategy Cumulative Returns\")\n",
    "plt.xlabel(\"Date\")\n",
    "plt.ylabel(\"Portfolio Value\")\n",
    "plt.legend()\n",
    "plt.grid(True)\n",
    "plt.tight_layout()\n",
    "plt.show()"
   ]
  }
 ],
 "metadata": {
  "kernelspec": {
   "display_name": "venv",
   "language": "python",
   "name": "python3"
  },
  "language_info": {
   "codemirror_mode": {
    "name": "ipython",
    "version": 3
   },
   "file_extension": ".py",
   "mimetype": "text/x-python",
   "name": "python",
   "nbconvert_exporter": "python",
   "pygments_lexer": "ipython3",
   "version": "3.13.5"
  }
 },
 "nbformat": 4,
 "nbformat_minor": 5
}
